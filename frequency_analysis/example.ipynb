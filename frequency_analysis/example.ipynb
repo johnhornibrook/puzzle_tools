{
 "cells": [
  {
   "cell_type": "code",
   "execution_count": 1,
   "metadata": {},
   "outputs": [],
   "source": [
    "from frequency_analysis import FrequencyAnalysis\n",
    "fa = FrequencyAnalysis()"
   ]
  },
  {
   "cell_type": "code",
   "execution_count": 2,
   "metadata": {},
   "outputs": [
    {
     "name": "stdout",
     "output_type": "stream",
     "text": [
      "-9.073\n",
      "-18.413\n"
     ]
    }
   ],
   "source": [
    "\"\"\"\n",
    "One can call score_string() with the string in question as the argument. \n",
    "A higher number (they will all be negative, it's a log probability) has an increased chance of being english. \n",
    "Numbers above -12 are good contenders\n",
    "\"\"\"\n",
    "\n",
    "print(fa.score_string('now is the winter of our discontent'))\n",
    "print(fa.score_string('fdhui feh wjkg dsh klfd'))"
   ]
  },
  {
   "cell_type": "code",
   "execution_count": 3,
   "metadata": {},
   "outputs": [],
   "source": [
    "\"\"\"\n",
    "As a demo, suppose you have found this: dcrtjedcpbxscxvwisgtpgn\n",
    "\n",
    "And the puzzle suggests there's a three-letter rotation cipher. The strategy will be to try all 18k options.\n",
    "\n",
    "First set up some code for the rotation\n",
    "\"\"\"\n",
    "\n",
    "def rot_char(c,n):\n",
    "\n",
    "    # Keep unknown characters unchanged\n",
    "    if c == '?':\n",
    "        return '?'\n",
    "\n",
    "    index = ord(c) + n\n",
    "    if chr(index) > 'z':\n",
    "        index -= 26\n",
    "    return chr(index)\n",
    "\n",
    "def rot_string(s,n):\n",
    "    cipher = ''\n",
    "    for c in s:\n",
    "        cipher += rot_char(c,n)\n",
    "    return cipher\n",
    "\n",
    "def multi_rot_string(s,n):\n",
    "    cipher = ''\n",
    "    num_shifts = len(n)\n",
    "    for i, c in enumerate(s):\n",
    "        shift = n[i % num_shifts]\n",
    "        cipher += rot_char(c, shift)\n",
    "    return cipher"
   ]
  },
  {
   "cell_type": "code",
   "execution_count": 4,
   "metadata": {},
   "outputs": [],
   "source": [
    "\"\"\"\n",
    "We now build a list of all the possible contenders\n",
    "\"\"\"\n",
    "\n",
    "s_list = []\n",
    "for i in range(26*26*26):\n",
    "    s = multi_rot_string('dcrtjedcpbxscxvwisgtpgn', [(i//(26*26))%26, (i//26)%26, i%26])\n",
    "    s_list.append(s)\n"
   ]
  },
  {
   "cell_type": "code",
   "execution_count": 5,
   "metadata": {},
   "outputs": [
    {
     "name": "stdout",
     "output_type": "stream",
     "text": [
      "onceuponamidnightdreary -10.9\n",
      "ongeutonemihnikhthreery -12.7\n",
      "plcfspplangdoggirdscasw -13.0\n",
      "ofcempofamadnaghldrwarq -13.5\n",
      "onfeusondmignijhtgredry -13.6\n"
     ]
    }
   ],
   "source": [
    "\"\"\"\n",
    "And list them by what is more likely to be english. The 'true' answer is ahead by a long way\n",
    "\"\"\"\n",
    "\n",
    "fa.rank_strings(s_list, num_to_output=5)"
   ]
  },
  {
   "cell_type": "code",
   "execution_count": 6,
   "metadata": {},
   "outputs": [
    {
     "name": "stdout",
     "output_type": "stream",
     "text": [
      "oncmuponamidlightdrgary -12.4\n",
      "ongmutonemihlikhthrgery -13.2\n",
      "phgnotphenchmckinhsaess -13.4\n",
      "phanonphyncbmceinbsayss -13.5\n",
      "fundbafuldpocpryaoinlif -13.5\n"
     ]
    }
   ],
   "source": [
    "\"\"\"\n",
    "Note that it will still find the answer if you have a few errors, even with unlikely letters appearing.\n",
    "\n",
    "Try again with three random errors\n",
    "\n",
    "dcrtjedcpbxscxvwisgtpgn -> dcrbjedcpbxsaxvwisgvpgn\n",
    "\"\"\"\n",
    "\n",
    "s_list = []\n",
    "for i in range(26*26*26):\n",
    "    s = multi_rot_string('dcrbjedcpbxsaxvwisgvpgn', [(i//(26*26))%26, (i//26)%26, i%26])\n",
    "    s_list.append(s)\n",
    "\n",
    "fa.rank_strings(s_list, num_to_output=5)\n"
   ]
  },
  {
   "cell_type": "code",
   "execution_count": 7,
   "metadata": {},
   "outputs": [
    {
     "name": "stdout",
     "output_type": "stream",
     "text": [
      "on?eupona?i?nightd?eary -8.6\n",
      "on?eutone?i?nikhth?eery -9.7\n",
      "by?rfabyl?t?atrueo?plej -10.0\n",
      "oy?eftoye?t?ntkheh?perj -10.1\n",
      "ol?estole?g?ngkhrh?cerw -10.1\n"
     ]
    }
   ],
   "source": [
    "\"\"\"\n",
    "It also handles unknown characters. In this case, use a '?' where you don't know where the letter is.\n",
    "\n",
    "Here's an example where we're missing four letters:\n",
    "\"\"\"\n",
    "\n",
    "s_list = []\n",
    "for i in range(26*26*26):\n",
    "    s = multi_rot_string('dc?tjedcp?x?cxvwis?tpgn', [(i//(26*26))%26, (i//26)%26, i%26])\n",
    "    s_list.append(s)\n",
    "\n",
    "fa.rank_strings_missing(s_list, num_to_output=5)"
   ]
  },
  {
   "cell_type": "code",
   "execution_count": null,
   "metadata": {},
   "outputs": [],
   "source": []
  }
 ],
 "metadata": {
  "kernelspec": {
   "display_name": "Python 3",
   "language": "python",
   "name": "python3"
  },
  "language_info": {
   "codemirror_mode": {
    "name": "ipython",
    "version": 3
   },
   "file_extension": ".py",
   "mimetype": "text/x-python",
   "name": "python",
   "nbconvert_exporter": "python",
   "pygments_lexer": "ipython3",
   "version": "3.12.4"
  }
 },
 "nbformat": 4,
 "nbformat_minor": 2
}
