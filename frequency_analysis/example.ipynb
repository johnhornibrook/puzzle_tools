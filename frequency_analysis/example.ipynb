{
 "cells": [
  {
   "cell_type": "code",
   "execution_count": 1,
   "metadata": {},
   "outputs": [],
   "source": [
    "from frequency_analysis import FrequencyAnalysis\n",
    "fa = FrequencyAnalysis()"
   ]
  },
  {
   "cell_type": "code",
   "execution_count": 2,
   "metadata": {},
   "outputs": [
    {
     "name": "stdout",
     "output_type": "stream",
     "text": [
      "-9.073\n",
      "-18.413\n"
     ]
    }
   ],
   "source": [
    "\"\"\"\n",
    "One can call score_string() with the string in question as the argument. \n",
    "A higher number (they will all be negative, it's a log probability) has an increased chance of being english. \n",
    "Numbers above -12 are good contenders\n",
    "\"\"\"\n",
    "\n",
    "print(fa.score_string('now is the winter of our discontent'))\n",
    "print(fa.score_string('fdhui feh wjkg dsh klfd'))"
   ]
  },
  {
   "cell_type": "code",
   "execution_count": 3,
   "metadata": {},
   "outputs": [],
   "source": [
    "\"\"\"\n",
    "For demo, set up some code to do a rotation cipher\n",
    "\"\"\"\n",
    "\n",
    "def rot_char(c,n):\n",
    "    index = ord(c) + n\n",
    "    if chr(index) > 'z':\n",
    "        index -= 26\n",
    "    return chr(index)\n",
    "\n",
    "def rot_string(s,n):\n",
    "    cipher = ''\n",
    "    for c in s:\n",
    "        cipher += rot_char(c,n)\n",
    "    return cipher\n",
    "\n",
    "def multi_rot_string(s,n):\n",
    "    cipher = ''\n",
    "    num_shifts = len(n)\n",
    "    for i, c in enumerate(s):\n",
    "        shift = n[i % num_shifts]\n",
    "        cipher += rot_char(c, shift)\n",
    "    return cipher"
   ]
  },
  {
   "cell_type": "code",
   "execution_count": 4,
   "metadata": {},
   "outputs": [],
   "source": [
    "\"\"\"\n",
    "Build a list of all the contender strings. For instance, for a 3-word rotation cipher, write down all 18k options\n",
    "\"\"\"\n",
    "\n",
    "s_list = []\n",
    "for i in range(26*26*26):\n",
    "    s = multi_rot_string('onceuponamidnightdreary', [(i//(26*26))%26, (i//26)%26, i%26])\n",
    "    s_list.append(s)\n"
   ]
  },
  {
   "cell_type": "code",
   "execution_count": 5,
   "metadata": {},
   "outputs": [
    {
     "name": "stdout",
     "output_type": "stream",
     "text": [
      "onceuponamidnightdreary -10.9\n",
      "ongeutonemihnikhthreery -12.7\n",
      "plcfspplangdoggirdscasw -13.0\n",
      "ofcempofamadnaghldrwarq -13.5\n",
      "onfeusondmignijhtgredry -13.6\n",
      "phgfotphenchockinhsyess -13.6\n",
      "pfcfmppfanadoagildswasq -13.7\n",
      "onreueonpmisnivhtsrepry -13.8\n",
      "oneeuroncmifniihtfrecry -13.8\n",
      "onneuaonlmionirhtorelry -13.9\n"
     ]
    }
   ],
   "source": [
    "\"\"\"\n",
    "And list them by what is more likely to be english, with the 'true' answer ahead by a long way\n",
    "\"\"\"\n",
    "\n",
    "fa.rank_strings(s_list)"
   ]
  },
  {
   "cell_type": "code",
   "execution_count": 6,
   "metadata": {},
   "outputs": [
    {
     "name": "stdout",
     "output_type": "stream",
     "text": [
      "plcfopplangboggirdstasw -12.4\n",
      "plkfoxplingjogoirlstisw -13.3\n",
      "onceqponamibnightdrvary -13.4\n",
      "ffnviaffldamearyloinliq -13.5\n",
      "ongeqtonemifnikhthrvery -13.7\n",
      "lfnbialfljamkareloonloq -13.9\n",
      "pinflapilndmodrioosqlst -14.0\n",
      "pfcfippfanaboagildsnasq -14.0\n",
      "picflppiandbodgiodsqast -14.1\n",
      "ksnavakslinmjnrdyonalnd -14.1\n"
     ]
    }
   ],
   "source": [
    "\"\"\"\n",
    "Note that it will still find the answer if you have a few errors, even with unlikely letters.\n",
    "Add an erroneous 'q', 'b' and a 'v', and the 'truth' appears in third place\n",
    "\"\"\"\n",
    "\n",
    "s_list = []\n",
    "for i in range(26*26*26):\n",
    "    s = multi_rot_string('onceqponamibnightdrvary', [(i//(26*26))%26, (i//26)%26, i%26])\n",
    "    s_list.append(s)\n",
    "\n",
    "fa.rank_strings(s_list)\n"
   ]
  },
  {
   "cell_type": "code",
   "execution_count": null,
   "metadata": {},
   "outputs": [],
   "source": []
  }
 ],
 "metadata": {
  "kernelspec": {
   "display_name": "Python 3",
   "language": "python",
   "name": "python3"
  },
  "language_info": {
   "codemirror_mode": {
    "name": "ipython",
    "version": 3
   },
   "file_extension": ".py",
   "mimetype": "text/x-python",
   "name": "python",
   "nbconvert_exporter": "python",
   "pygments_lexer": "ipython3",
   "version": "3.12.4"
  }
 },
 "nbformat": 4,
 "nbformat_minor": 2
}
